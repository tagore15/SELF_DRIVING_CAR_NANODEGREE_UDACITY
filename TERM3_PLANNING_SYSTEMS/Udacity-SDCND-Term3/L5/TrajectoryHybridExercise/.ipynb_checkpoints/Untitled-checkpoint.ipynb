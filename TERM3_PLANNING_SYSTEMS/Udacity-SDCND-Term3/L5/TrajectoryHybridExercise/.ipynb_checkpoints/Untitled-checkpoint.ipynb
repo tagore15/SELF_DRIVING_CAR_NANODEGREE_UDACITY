{
 "cells": [
  {
   "cell_type": "code",
   "execution_count": null,
   "metadata": {
    "collapsed": false
   },
   "outputs": [],
   "source": [
    "from math import pi\n",
    "import hybrid_breadth_first\n",
    "from hybrid_breadth_first import search\n",
    "import sys\n",
    "from matplotlib import pyplot as plt\n",
    "\n",
    "reload(hybrid_breadth_first)\n",
    "from hybrid_breadth_first import search, reconstruct_path\n",
    "\n",
    "GRID = [\n",
    "    [0,0,0,0,0,0,0,0,0,0,0,0,0,0],\n",
    "    [0,0,0,0,0,0,0,0,0,0,0,0,0,0],\n",
    "    [0,0,0,0,0,0,0,0,0,0,0,0,0,0],\n",
    "    [0,0,0,0,0,0,0,0,0,0,0,0,0,0],\n",
    "    [0,0,0,0,0,0,0,0,0,0,0,0,0,0],\n",
    "    [0,0,0,0,0,0,0,0,0,0,0,0,0,0],\n",
    "    [0,0,0,0,0,0,0,0,0,0,0,0,0,0],\n",
    "    [0,0,0,0,0,0,0,0,0,0,0,0,0,0],\n",
    "    [0,0,0,0,0,0,0,0,0,0,0,0,0,0],\n",
    "    [0,0,0,0,0,0,0,0,0,0,0,0,0,0],\n",
    "    [0,0,0,0,0,0,0,0,0,0,0,0,0,0],\n",
    "    [0,0,0,0,0,0,0,0,0,0,0,0,0,0],\n",
    "    [0,0,0,0,0,0,0,0,0,0,0,0,0,0],    \n",
    "]\n",
    "\n",
    "GRID = [\n",
    "    [0,0,0,0,0,0,0,0],\n",
    "    [0,0,0,0,0,0,0,0],\n",
    "    [0,0,1,1,1,1,0,0],\n",
    "    [0,0,1,1,1,1,0,0],\n",
    "    [0,0,1,1,1,1,0,0],\n",
    "    [0,0,1,1,1,,1,0,0],\n",
    "    [0,0,0,0,0,0,0,0],\n",
    "    [0,0,0,0,0,0,0,0],\n",
    "]\n",
    "\n",
    "# GRID = [[0 for _ in range(8)] for __ in range(8)]\n",
    "\n",
    "START = (0.0,0.0,0.0)\n",
    "GOAL = (len(GRID[0])-1, len(GRID)-1)\n"
   ]
  },
  {
   "cell_type": "code",
   "execution_count": null,
   "metadata": {
    "collapsed": false
   },
   "outputs": [],
   "source": [
    "closed, came_from, final = search(GRID, START, GOAL)"
   ]
  },
  {
   "cell_type": "code",
   "execution_count": 80,
   "metadata": {
    "collapsed": false
   },
   "outputs": [],
   "source": [
    "path = reconstruct_path(came_from, GOAL, START, final)"
   ]
  },
  {
   "cell_type": "code",
   "execution_count": 81,
   "metadata": {
    "collapsed": false
   },
   "outputs": [
    {
     "data": {
      "text/plain": [
       "[(8, 7.750488692243014, 7.867275639812907, 0.6128421096750425),\n",
       " (7, 6.5643646838687255, 7.033243364203557, 1.0314210548375211),\n",
       " (6, 5.819644601664593, 5.789100285951754, 1.225684219350085),\n",
       " (5, 5.329106445468884, 4.424595864076869, 1.225684219350085),\n",
       " (4, 4.838568289273176, 3.0600914422019834, 0.8071052741876065),\n",
       " (3, 3.8357596659725886, 2.0127735033534306, 0.6128421096750425),\n",
       " (2, 2.6496356575983, 1.1787412277440805, 0.41857894516247857),\n",
       " (1, 1.32481782879915, 0.5893706138720403, 0.41857894516247857)]"
      ]
     },
     "execution_count": 81,
     "metadata": {},
     "output_type": "execute_result"
    }
   ],
   "source": [
    "path"
   ]
  },
  {
   "cell_type": "code",
   "execution_count": 82,
   "metadata": {
    "collapsed": false
   },
   "outputs": [],
   "source": [
    "def show_path(path, start, goal):\n",
    "    path.reverse()\n",
    "    X = [p[1] for p in path]\n",
    "    Y = [p[2] for p in path]\n",
    "    THETA = [p[3] for p in path]\n",
    "    plt.scatter(X,Y, color='black')\n",
    "    plt.scatter([start[0]], [start[1]], color='blue')\n",
    "    plt.scatter([goal[0]], [goal[1]], color='red')\n",
    "    plt.show()"
   ]
  },
  {
   "cell_type": "code",
   "execution_count": null,
   "metadata": {
    "collapsed": false
   },
   "outputs": [],
   "source": [
    "show_path(path, START, GOAL)"
   ]
  },
  {
   "cell_type": "code",
   "execution_count": 61,
   "metadata": {
    "collapsed": true
   },
   "outputs": [],
   "source": [
    "def reconstruct_path(came_from, goal, start ):\n",
    "    path = []\n",
    "    current = goal"
   ]
  },
  {
   "cell_type": "code",
   "execution_count": 62,
   "metadata": {
    "collapsed": false
   },
   "outputs": [
    {
     "data": {
      "text/plain": [
       "[[[(0, 0.0, 0.0, 0.0), 0, 0, 0],\n",
       "  [(0, 0.0, 0.0, 0.0), 0, 0, 0],\n",
       "  [(1, 1.45, 0.0, 0.0),\n",
       "   (1, 0.9708859027642681, 1.0769775131420396, 0.8371578903249571),\n",
       "   0,\n",
       "   0],\n",
       "  [(2, 2.420885902764268, 1.0769775131420396, 0.0),\n",
       "   (2, 2.420885902764268, 1.0769775131420396, 0.0),\n",
       "   (2, 1.9417718055285362, 2.153955026284079, 0.8371578903249571),\n",
       "   (3, 1.7919365450959677, 3.5961926609099075, 0.8371578903249571)]],\n",
       " [[0,\n",
       "   (0, 0.0, 0.0, 0.0),\n",
       "   (1, 0.9708859027642681, 1.0769775131420396, 0.8371578903249571),\n",
       "   (2, 0.8210506423316997, 2.519215147767868, 1.6743157806499143)],\n",
       "  [0,\n",
       "   0,\n",
       "   (1, 0.9708859027642681, 1.0769775131420396, 0.8371578903249571),\n",
       "   (2, 0.8210506423316997, 2.519215147767868, 1.6743157806499143)],\n",
       "  [0,\n",
       "   (1, 1.45, 0.0, 0.0),\n",
       "   (2, 2.420885902764268, 1.0769775131420396, 0.8371578903249571),\n",
       "   (2, 1.9417718055285362, 2.153955026284079, 0.8371578903249571)],\n",
       "  [0,\n",
       "   (2, 2.9, 0.0, 0.0),\n",
       "   (2, 2.420885902764268, 1.0769775131420396, 0.0),\n",
       "   (3, 2.9114240589599767, 2.441481935016925, 1.225684219350085)]],\n",
       " [[0, 0, 0, 0], [0, 0, 0, 0], [0, 0, 0, 0], [0, 0, 0, 0]],\n",
       " [[0, 0, 0, 0],\n",
       "  [0, 0, 0, 0],\n",
       "  [0, 0, 0, 0],\n",
       "  [(2, 2.420885902764268, 1.0769775131420396, 0.0), 0, 0, 0]]]"
      ]
     },
     "execution_count": 62,
     "metadata": {},
     "output_type": "execute_result"
    }
   ],
   "source": [
    "came_from"
   ]
  },
  {
   "cell_type": "code",
   "execution_count": 43,
   "metadata": {
    "collapsed": false
   },
   "outputs": [],
   "source": [
    "ALL_OPEN = set([])\n",
    "ALL_CLOSED = set([])\n",
    "\n",
    "class Cell():\n",
    "    def __init__(self, traversible, coords):\n",
    "        self.traversible = traversible\n",
    "        self.coords = coords\n",
    "        self.state = \"unvisited\"\n",
    "        self.f_score = None\n",
    "        self.g_score = None\n",
    "        self.y = coords[0]\n",
    "        self.x = coords[1]\n",
    "        self.theta = coords[2]\n",
    "        \n",
    "    \n",
    "    def __repr__(self):\n",
    "        return self.state\n",
    "    \n",
    "    def close(self):\n",
    "        self.state = 'closed'\n",
    "        ALL_OPEN.remove(self.coords)\n",
    "        ALL_CLOSED.add(self.coords)\n",
    "        \n",
    "    def add_to_open(self):\n",
    "        self.state = 'open'\n",
    "        ALL_OPEN.add(self.coords)\n",
    "\n",
    "\n",
    "class ThreeSpace(object):\n",
    "    def __init__(self, theta_res, grid_2d, expansion=3):\n",
    "        self.expansion = expansion\n",
    "        self.theta_res = theta_res\n",
    "        self.dim_theta = int(2*pi / theta_res)\n",
    "        self.grid_2d = self.make_expanded_2d_grid(grid_2d)\n",
    "        self.grid = self.make_grid(self.grid_2d)\n",
    "        \n",
    "    def make_expanded_2d_grid(self, grid_2d):\n",
    "        grid = []\n",
    "        for i in range(self.expansion*len(grid_2d)):\n",
    "            row = []\n",
    "            for j in range(self.expansion*len(grid_2d[0])):\n",
    "                cell = grid_2d[i/self.expansion][j/self.expansion]\n",
    "                row.append(cell)\n",
    "            grid.append(row)\n",
    "        return grid\n",
    "                \n",
    "        \n",
    "    def __getitem__(self, index):\n",
    "        \n",
    "        x, y = map(lambda val: int(round(self.expansion*(val + 0.5))), index[:2])\n",
    "        \n",
    "        if len(index) == 2:\n",
    "            return self.grid[x*self.expan][y][0]\n",
    "        theta = index[-1] + 2*pi\n",
    "        theta = theta % (2*pi)\n",
    "        theta_index = int(theta / self.theta_res)\n",
    "        return self.grid[x][y][theta_index]\n",
    "        index = int(round(index))\n",
    "        \n",
    "    def make_grid(self, grid_2d):\n",
    "        cube = []\n",
    "        for y in range(len(grid_2d)):\n",
    "            grid = []\n",
    "            for x in range(len(grid_2d[0])):\n",
    "                row = []\n",
    "                cell = grid_2d[y][x]\n",
    "                traversible = True\n",
    "                if cell == 0: traversible = False\n",
    "                for z, theta in enumerate(range(self.dim_theta)):\n",
    "                    row.append(Cell(traversible, (y,x,z)))\n",
    "                grid.append(row)\n",
    "            cube.append(grid)\n",
    "        return cube\n",
    "                    "
   ]
  },
  {
   "cell_type": "code",
   "execution_count": 41,
   "metadata": {
    "collapsed": false
   },
   "outputs": [],
   "source": [
    "S = 'start'\n",
    "G = 'goal'\n",
    "grid = [\n",
    "    [S,0,1,0,1,0,0],\n",
    "    [0,0,1,1,1,0,1],\n",
    "    [0,0,0,0,0,0,1],\n",
    "    [0,0,1,1,1,0,0],\n",
    "    [0,0,0,0,1,0,0],\n",
    "    [0,0,1,0,1,G,0],\n",
    "]\n",
    "world = ThreeSpace( pi/6.0, grid)\n",
    "    "
   ]
  },
  {
   "cell_type": "code",
   "execution_count": 42,
   "metadata": {
    "collapsed": false
   },
   "outputs": [
    {
     "data": {
      "text/plain": [
       "[['start',\n",
       "  'start',\n",
       "  'start',\n",
       "  0,\n",
       "  0,\n",
       "  0,\n",
       "  1,\n",
       "  1,\n",
       "  1,\n",
       "  0,\n",
       "  0,\n",
       "  0,\n",
       "  1,\n",
       "  1,\n",
       "  1,\n",
       "  0,\n",
       "  0,\n",
       "  0,\n",
       "  0,\n",
       "  0,\n",
       "  0],\n",
       " ['start',\n",
       "  'start',\n",
       "  'start',\n",
       "  0,\n",
       "  0,\n",
       "  0,\n",
       "  1,\n",
       "  1,\n",
       "  1,\n",
       "  0,\n",
       "  0,\n",
       "  0,\n",
       "  1,\n",
       "  1,\n",
       "  1,\n",
       "  0,\n",
       "  0,\n",
       "  0,\n",
       "  0,\n",
       "  0,\n",
       "  0],\n",
       " ['start',\n",
       "  'start',\n",
       "  'start',\n",
       "  0,\n",
       "  0,\n",
       "  0,\n",
       "  1,\n",
       "  1,\n",
       "  1,\n",
       "  0,\n",
       "  0,\n",
       "  0,\n",
       "  1,\n",
       "  1,\n",
       "  1,\n",
       "  0,\n",
       "  0,\n",
       "  0,\n",
       "  0,\n",
       "  0,\n",
       "  0],\n",
       " [0, 0, 0, 0, 0, 0, 1, 1, 1, 1, 1, 1, 1, 1, 1, 0, 0, 0, 1, 1, 1],\n",
       " [0, 0, 0, 0, 0, 0, 1, 1, 1, 1, 1, 1, 1, 1, 1, 0, 0, 0, 1, 1, 1],\n",
       " [0, 0, 0, 0, 0, 0, 1, 1, 1, 1, 1, 1, 1, 1, 1, 0, 0, 0, 1, 1, 1],\n",
       " [0, 0, 0, 0, 0, 0, 0, 0, 0, 0, 0, 0, 0, 0, 0, 0, 0, 0, 1, 1, 1],\n",
       " [0, 0, 0, 0, 0, 0, 0, 0, 0, 0, 0, 0, 0, 0, 0, 0, 0, 0, 1, 1, 1],\n",
       " [0, 0, 0, 0, 0, 0, 0, 0, 0, 0, 0, 0, 0, 0, 0, 0, 0, 0, 1, 1, 1],\n",
       " [0, 0, 0, 0, 0, 0, 1, 1, 1, 1, 1, 1, 1, 1, 1, 0, 0, 0, 0, 0, 0],\n",
       " [0, 0, 0, 0, 0, 0, 1, 1, 1, 1, 1, 1, 1, 1, 1, 0, 0, 0, 0, 0, 0],\n",
       " [0, 0, 0, 0, 0, 0, 1, 1, 1, 1, 1, 1, 1, 1, 1, 0, 0, 0, 0, 0, 0],\n",
       " [0, 0, 0, 0, 0, 0, 0, 0, 0, 0, 0, 0, 1, 1, 1, 0, 0, 0, 0, 0, 0],\n",
       " [0, 0, 0, 0, 0, 0, 0, 0, 0, 0, 0, 0, 1, 1, 1, 0, 0, 0, 0, 0, 0],\n",
       " [0, 0, 0, 0, 0, 0, 0, 0, 0, 0, 0, 0, 1, 1, 1, 0, 0, 0, 0, 0, 0],\n",
       " [0,\n",
       "  0,\n",
       "  0,\n",
       "  0,\n",
       "  0,\n",
       "  0,\n",
       "  1,\n",
       "  1,\n",
       "  1,\n",
       "  0,\n",
       "  0,\n",
       "  0,\n",
       "  1,\n",
       "  1,\n",
       "  1,\n",
       "  'goal',\n",
       "  'goal',\n",
       "  'goal',\n",
       "  0,\n",
       "  0,\n",
       "  0],\n",
       " [0,\n",
       "  0,\n",
       "  0,\n",
       "  0,\n",
       "  0,\n",
       "  0,\n",
       "  1,\n",
       "  1,\n",
       "  1,\n",
       "  0,\n",
       "  0,\n",
       "  0,\n",
       "  1,\n",
       "  1,\n",
       "  1,\n",
       "  'goal',\n",
       "  'goal',\n",
       "  'goal',\n",
       "  0,\n",
       "  0,\n",
       "  0],\n",
       " [0,\n",
       "  0,\n",
       "  0,\n",
       "  0,\n",
       "  0,\n",
       "  0,\n",
       "  1,\n",
       "  1,\n",
       "  1,\n",
       "  0,\n",
       "  0,\n",
       "  0,\n",
       "  1,\n",
       "  1,\n",
       "  1,\n",
       "  'goal',\n",
       "  'goal',\n",
       "  'goal',\n",
       "  0,\n",
       "  0,\n",
       "  0]]"
      ]
     },
     "execution_count": 42,
     "metadata": {},
     "output_type": "execute_result"
    }
   ],
   "source": [
    "world.grid_2d"
   ]
  },
  {
   "cell_type": "code",
   "execution_count": 39,
   "metadata": {
    "collapsed": false
   },
   "outputs": [
    {
     "data": {
      "text/plain": [
       "12"
      ]
     },
     "execution_count": 39,
     "metadata": {},
     "output_type": "execute_result"
    }
   ],
   "source": [
    "len(world.grid[0][0])"
   ]
  },
  {
   "cell_type": "code",
   "execution_count": 27,
   "metadata": {
    "collapsed": false
   },
   "outputs": [
    {
     "data": {
      "text/plain": [
       "['start',\n",
       " 'start',\n",
       " 'start',\n",
       " 0,\n",
       " 0,\n",
       " 0,\n",
       " 1,\n",
       " 1,\n",
       " 1,\n",
       " 0,\n",
       " 0,\n",
       " 0,\n",
       " 1,\n",
       " 1,\n",
       " 1,\n",
       " 0,\n",
       " 0,\n",
       " 0,\n",
       " 0,\n",
       " 0,\n",
       " 0]"
      ]
     },
     "execution_count": 27,
     "metadata": {},
     "output_type": "execute_result"
    }
   ],
   "source": [
    "world.grid_2d[0]"
   ]
  },
  {
   "cell_type": "code",
   "execution_count": 19,
   "metadata": {
    "collapsed": false
   },
   "outputs": [
    {
     "data": {
      "text/plain": [
       "12"
      ]
     },
     "execution_count": 19,
     "metadata": {},
     "output_type": "execute_result"
    }
   ],
   "source": [
    "len(space.grid[0][0])"
   ]
  },
  {
   "cell_type": "code",
   "execution_count": null,
   "metadata": {
    "collapsed": true
   },
   "outputs": [],
   "source": [
    "def hybrid_a_star(grid, start_theta):\n",
    "    for y, row in enumerate(grid):\n",
    "        for x, cell in enumerate(row):\n",
    "            if cell == \"start\":\n",
    "                start_state = (y,x, start_theta)\n",
    "            if cell == \"goal\":\n",
    "                goal  = (y,x)\n",
    "    world = ThreeSpace(1,1,pi/6.0,grid)\n",
    "    opened.add(start_state)\n",
    "    \n",
    "    \n",
    "    "
   ]
  }
 ],
 "metadata": {
  "kernelspec": {
   "display_name": "Python 2",
   "language": "python",
   "name": "python2"
  },
  "language_info": {
   "codemirror_mode": {
    "name": "ipython",
    "version": 2
   },
   "file_extension": ".py",
   "mimetype": "text/x-python",
   "name": "python",
   "nbconvert_exporter": "python",
   "pygments_lexer": "ipython2",
   "version": "2.7.10"
  }
 },
 "nbformat": 4,
 "nbformat_minor": 0
}
