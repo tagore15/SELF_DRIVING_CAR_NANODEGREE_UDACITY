{
 "cells": [
  {
   "cell_type": "code",
   "execution_count": 1,
   "metadata": {},
   "outputs": [
    {
     "name": "stderr",
     "output_type": "stream",
     "text": [
      "/home/ryosuke/.local/lib/python3.5/site-packages/sklearn/cross_validation.py:41: DeprecationWarning: This module was deprecated in version 0.18 in favor of the model_selection module into which all the refactored classes and functions are moved. Also note that the interface of the new CV iterators are different from that of this module. This module will be removed in 0.20.\n",
      "  \"This module will be removed in 0.20.\", DeprecationWarning)\n",
      "Using TensorFlow backend.\n"
     ]
    }
   ],
   "source": [
    "import numpy as np\n",
    "\n",
    "import cv2\n",
    "import glob\n",
    "import os\n",
    "\n",
    "from sklearn.cross_validation import train_test_split\n",
    "from sklearn.metrics import confusion_matrix\n",
    "\n",
    "import keras\n",
    "from keras.utils import np_utils\n",
    "from keras.models import Sequential\n",
    "from keras.layers import Dense, Dropout, Flatten, MaxPooling2D, Conv2D,GlobalAveragePooling2D,Activation\n",
    "from keras.callbacks import ModelCheckpoint  \n",
    "\n",
    "import matplotlib.pyplot as plt\n",
    "import seaborn as sns\n",
    "%matplotlib inline"
   ]
  },
  {
   "cell_type": "code",
   "execution_count": 2,
   "metadata": {
    "collapsed": true
   },
   "outputs": [],
   "source": [
    "def process_image_with_label(image_file_names, color = \"red\"):\n",
    "    image_array = []\n",
    "    labels = []\n",
    "    desired_size = (128,128)\n",
    "    color_label = {\"red\":0, \"yellow\":1, \"green\":2, \"off\":3}\n",
    "    label = color_label.get(color)\n",
    "\n",
    "    for image_file_name in image_file_names:\n",
    "        image = cv2.imread(image_file_name)\n",
    "        resized_image = cv2.resize(image, desired_size, cv2.INTER_LINEAR)\n",
    "        resized_image = resized_image.astype('float32')/255\n",
    "        image_array.append(resized_image)\n",
    "        labels.append(label)\n",
    "    return np.array(image_array),np.array(labels)"
   ]
  },
  {
   "cell_type": "code",
   "execution_count": 3,
   "metadata": {},
   "outputs": [],
   "source": [
    "def get_images_with_labels(data_dir):\n",
    "    images = []\n",
    "    labels = []\n",
    "    \n",
    "    red_images, red_labels = process_image_with_label(glob.glob(os.path.join(data_dir,\"*_red.png\")), color = \"red\")\n",
    "    yellow_images, yellow_labels = process_image_with_label(glob.glob(os.path.join(data_dir,\"*_yellow.png\")), color = \"yellow\")\n",
    "    green_images, green_labels = process_image_with_label(glob.glob(os.path.join(data_dir,\"*_green.png\")), color = \"green\")\n",
    "    off_images, off_labels = process_image_with_label(glob.glob(os.path.join(data_dir,\"*_off.png\")), color = \"off\")\n",
    "    \n",
    "    images = np.concatenate((red_images,yellow_images, green_images, off_images))\n",
    "    labels = np.concatenate((red_labels, yellow_labels, green_labels, off_labels))\n",
    "    return np.array(images),np.array(labels)"
   ]
  },
  {
   "cell_type": "code",
   "execution_count": 4,
   "metadata": {},
   "outputs": [],
   "source": [
    "train_images, train_labels = get_images_with_labels(\"data/cropped_data/train_margin10\")\n",
    "additional_images, additional_labels = get_images_with_labels(\"data/cropped_data/additional_train_margin10\")\n",
    "test_images, test_labels = get_images_with_labels(\"data/cropped_data/test_margin10\")"
   ]
  },
  {
   "cell_type": "code",
   "execution_count": 5,
   "metadata": {
    "collapsed": true
   },
   "outputs": [],
   "source": [
    "# Concatenate training data with additional training data\n",
    "train_images = np.concatenate((train_images, additional_images))\n",
    "train_labels = np.concatenate((train_labels, additional_labels))"
   ]
  },
  {
   "cell_type": "code",
   "execution_count": 6,
   "metadata": {},
   "outputs": [],
   "source": [
    "# One-hot encode the labels\n",
    "NUM_CLASSES = 4\n",
    "train_labels_oh = np_utils.to_categorical(train_labels, NUM_CLASSES)\n",
    "additional_labels_oh = np_utils.to_categorical(additional_labels,  NUM_CLASSES)\n",
    "test_labels_oh = np_utils.to_categorical(test_labels,  NUM_CLASSES)"
   ]
  },
  {
   "cell_type": "code",
   "execution_count": 7,
   "metadata": {
    "collapsed": true
   },
   "outputs": [],
   "source": [
    "# Train, Validation split\n",
    "X_train, X_val, y_train, y_val = train_test_split(\n",
    "                train_images,train_labels_oh,train_size = 0.75, random_state = 402)\n",
    "assert(X_train.shape[0] == y_train.shape[0])\n",
    "assert(X_val.shape[0] == y_val.shape[0])"
   ]
  },
  {
   "cell_type": "code",
   "execution_count": 8,
   "metadata": {
    "scrolled": true
   },
   "outputs": [
    {
     "name": "stdout",
     "output_type": "stream",
     "text": [
      "_________________________________________________________________\n",
      "Layer (type)                 Output Shape              Param #   \n",
      "=================================================================\n",
      "conv2d_1 (Conv2D)            (None, 128, 128, 16)      208       \n",
      "_________________________________________________________________\n",
      "activation_1 (Activation)    (None, 128, 128, 16)      0         \n",
      "_________________________________________________________________\n",
      "max_pooling2d_1 (MaxPooling2 (None, 64, 64, 16)        0         \n",
      "_________________________________________________________________\n",
      "dropout_1 (Dropout)          (None, 64, 64, 16)        0         \n",
      "_________________________________________________________________\n",
      "conv2d_2 (Conv2D)            (None, 64, 64, 32)        2080      \n",
      "_________________________________________________________________\n",
      "activation_2 (Activation)    (None, 64, 64, 32)        0         \n",
      "_________________________________________________________________\n",
      "max_pooling2d_2 (MaxPooling2 (None, 32, 32, 32)        0         \n",
      "_________________________________________________________________\n",
      "dropout_2 (Dropout)          (None, 32, 32, 32)        0         \n",
      "_________________________________________________________________\n",
      "conv2d_3 (Conv2D)            (None, 32, 32, 64)        8256      \n",
      "_________________________________________________________________\n",
      "activation_3 (Activation)    (None, 32, 32, 64)        0         \n",
      "_________________________________________________________________\n",
      "max_pooling2d_3 (MaxPooling2 (None, 16, 16, 64)        0         \n",
      "_________________________________________________________________\n",
      "dropout_3 (Dropout)          (None, 16, 16, 64)        0         \n",
      "_________________________________________________________________\n",
      "global_average_pooling2d_1 ( (None, 64)                0         \n",
      "_________________________________________________________________\n",
      "dense_1 (Dense)              (None, 30)                1950      \n",
      "_________________________________________________________________\n",
      "dropout_4 (Dropout)          (None, 30)                0         \n",
      "_________________________________________________________________\n",
      "dense_2 (Dense)              (None, 10)                310       \n",
      "_________________________________________________________________\n",
      "dense_3 (Dense)              (None, 4)                 44        \n",
      "=================================================================\n",
      "Total params: 12,848\n",
      "Trainable params: 12,848\n",
      "Non-trainable params: 0\n",
      "_________________________________________________________________\n"
     ]
    }
   ],
   "source": [
    "NUM_CLASSES = 4\n",
    "model = Sequential()\n",
    "\n",
    "# Block1\n",
    "model.add(Conv2D(16, (2, 2), padding = 'same', input_shape =train_images[0].shape))\n",
    "model.add(Activation('relu'))\n",
    "model.add(MaxPooling2D(pool_size = (2, 2)))\n",
    "model.add(Dropout(0.2))\n",
    "\n",
    "# Block2\n",
    "model.add(Conv2D(32, (2, 2), padding = 'same'))\n",
    "model.add(Activation('relu'))\n",
    "model.add(MaxPooling2D(pool_size = (2, 2)))\n",
    "model.add(Dropout(0.2))\n",
    "\n",
    "# Block3\n",
    "model.add(Conv2D(64, (2, 2), padding = 'same'))\n",
    "model.add(Activation('relu'))\n",
    "model.add(MaxPooling2D(pool_size = (2, 2)))\n",
    "model.add(Dropout(0.2))\n",
    "\n",
    "# Block4\n",
    "# model.add(Conv2D(64, (2, 2), padding = 'same'))\n",
    "# model.add(Activation('relu'))\n",
    "# model.add(MaxPooling2D(pool_size = (2, 2)))\n",
    "# model.add(Dropout(0.2))\n",
    "\n",
    "\n",
    "model.add(GlobalAveragePooling2D())\n",
    "# Fully connected layers\n",
    "model.add(Dense(30))\n",
    "model.add(Dropout(0.2))\n",
    "model.add(Dense(10))\n",
    "model.add(Dense(NUM_CLASSES, activation='softmax'))\n",
    "\n",
    "\n",
    "model.summary()\n",
    "model.compile(loss='categorical_crossentropy',\n",
    "              optimizer='adam',\n",
    "              metrics=['accuracy'])"
   ]
  },
  {
   "cell_type": "code",
   "execution_count": 9,
   "metadata": {
    "scrolled": true
   },
   "outputs": [
    {
     "name": "stdout",
     "output_type": "stream",
     "text": [
      "Train on 7212 samples, validate on 2404 samples\n",
      "Epoch 1/20\n",
      "7104/7212 [============================>.] - ETA: 0s - loss: 1.0848 - acc: 0.5338Epoch 00000: val_loss improved from inf to 1.08614, saving model to saved_models/weights128_test.hdf5\n",
      "7212/7212 [==============================] - 7s - loss: 1.0850 - acc: 0.5326 - val_loss: 1.0861 - val_acc: 0.5537\n",
      "Epoch 2/20\n",
      "7104/7212 [============================>.] - ETA: 0s - loss: 1.0220 - acc: 0.5521Epoch 00001: val_loss improved from 1.08614 to 1.06017, saving model to saved_models/weights128_test.hdf5\n",
      "7212/7212 [==============================] - 4s - loss: 1.0228 - acc: 0.5513 - val_loss: 1.0602 - val_acc: 0.5628\n",
      "Epoch 3/20\n",
      "7104/7212 [============================>.] - ETA: 0s - loss: 0.8336 - acc: 0.6788Epoch 00002: val_loss improved from 1.06017 to 0.61325, saving model to saved_models/weights128_test.hdf5\n",
      "7212/7212 [==============================] - 4s - loss: 0.8299 - acc: 0.6812 - val_loss: 0.6132 - val_acc: 0.8170\n",
      "Epoch 4/20\n",
      "7104/7212 [============================>.] - ETA: 0s - loss: 0.5421 - acc: 0.8240Epoch 00003: val_loss improved from 0.61325 to 0.52020, saving model to saved_models/weights128_test.hdf5\n",
      "7212/7212 [==============================] - 4s - loss: 0.5413 - acc: 0.8245 - val_loss: 0.5202 - val_acc: 0.8432\n",
      "Epoch 5/20\n",
      "7104/7212 [============================>.] - ETA: 0s - loss: 0.5014 - acc: 0.8366Epoch 00004: val_loss improved from 0.52020 to 0.51160, saving model to saved_models/weights128_test.hdf5\n",
      "7212/7212 [==============================] - 4s - loss: 0.5012 - acc: 0.8365 - val_loss: 0.5116 - val_acc: 0.8457\n",
      "Epoch 6/20\n",
      "7104/7212 [============================>.] - ETA: 0s - loss: 0.4942 - acc: 0.8409Epoch 00005: val_loss improved from 0.51160 to 0.48992, saving model to saved_models/weights128_test.hdf5\n",
      "7212/7212 [==============================] - 4s - loss: 0.4923 - acc: 0.8417 - val_loss: 0.4899 - val_acc: 0.8415\n",
      "Epoch 7/20\n",
      "7104/7212 [============================>.] - ETA: 0s - loss: 0.4828 - acc: 0.8442Epoch 00006: val_loss improved from 0.48992 to 0.48472, saving model to saved_models/weights128_test.hdf5\n",
      "7212/7212 [==============================] - 4s - loss: 0.4804 - acc: 0.8453 - val_loss: 0.4847 - val_acc: 0.8511\n",
      "Epoch 8/20\n",
      "7104/7212 [============================>.] - ETA: 0s - loss: 0.4716 - acc: 0.8470Epoch 00007: val_loss improved from 0.48472 to 0.47695, saving model to saved_models/weights128_test.hdf5\n",
      "7212/7212 [==============================] - 4s - loss: 0.4725 - acc: 0.8466 - val_loss: 0.4769 - val_acc: 0.8519\n",
      "Epoch 9/20\n",
      "7104/7212 [============================>.] - ETA: 0s - loss: 0.4700 - acc: 0.8480Epoch 00008: val_loss improved from 0.47695 to 0.47049, saving model to saved_models/weights128_test.hdf5\n",
      "7212/7212 [==============================] - 4s - loss: 0.4694 - acc: 0.8483 - val_loss: 0.4705 - val_acc: 0.8527\n",
      "Epoch 10/20\n",
      "7104/7212 [============================>.] - ETA: 0s - loss: 0.4638 - acc: 0.8467Epoch 00009: val_loss did not improve\n",
      "7212/7212 [==============================] - 4s - loss: 0.4657 - acc: 0.8464 - val_loss: 0.4817 - val_acc: 0.8498\n",
      "Epoch 11/20\n",
      "7104/7212 [============================>.] - ETA: 0s - loss: 0.4582 - acc: 0.8484Epoch 00010: val_loss did not improve\n",
      "7212/7212 [==============================] - 4s - loss: 0.4573 - acc: 0.8484 - val_loss: 0.4809 - val_acc: 0.8544\n",
      "Epoch 12/20\n",
      "7104/7212 [============================>.] - ETA: 0s - loss: 0.4430 - acc: 0.8528Epoch 00011: val_loss improved from 0.47049 to 0.45110, saving model to saved_models/weights128_test.hdf5\n",
      "7212/7212 [==============================] - 4s - loss: 0.4447 - acc: 0.8522 - val_loss: 0.4511 - val_acc: 0.8552\n",
      "Epoch 13/20\n",
      "7104/7212 [============================>.] - ETA: 0s - loss: 0.4448 - acc: 0.8522Epoch 00012: val_loss improved from 0.45110 to 0.43768, saving model to saved_models/weights128_test.hdf5\n",
      "7212/7212 [==============================] - 4s - loss: 0.4468 - acc: 0.8518 - val_loss: 0.4377 - val_acc: 0.8494\n",
      "Epoch 14/20\n",
      "7104/7212 [============================>.] - ETA: 0s - loss: 0.4320 - acc: 0.8539Epoch 00013: val_loss improved from 0.43768 to 0.42295, saving model to saved_models/weights128_test.hdf5\n",
      "7212/7212 [==============================] - 4s - loss: 0.4301 - acc: 0.8544 - val_loss: 0.4230 - val_acc: 0.8544\n",
      "Epoch 15/20\n",
      "7104/7212 [============================>.] - ETA: 0s - loss: 0.4251 - acc: 0.8552Epoch 00014: val_loss improved from 0.42295 to 0.42078, saving model to saved_models/weights128_test.hdf5\n",
      "7212/7212 [==============================] - 4s - loss: 0.4253 - acc: 0.8548 - val_loss: 0.4208 - val_acc: 0.8731\n",
      "Epoch 16/20\n",
      "7104/7212 [============================>.] - ETA: 0s - loss: 0.4051 - acc: 0.8625Epoch 00015: val_loss improved from 0.42078 to 0.40666, saving model to saved_models/weights128_test.hdf5\n",
      "7212/7212 [==============================] - 4s - loss: 0.4061 - acc: 0.8618 - val_loss: 0.4067 - val_acc: 0.8831\n",
      "Epoch 17/20\n",
      "7104/7212 [============================>.] - ETA: 0s - loss: 0.3912 - acc: 0.8778Epoch 00016: val_loss improved from 0.40666 to 0.39130, saving model to saved_models/weights128_test.hdf5\n",
      "7212/7212 [==============================] - 4s - loss: 0.3906 - acc: 0.8785 - val_loss: 0.3913 - val_acc: 0.8906\n",
      "Epoch 18/20\n",
      "7104/7212 [============================>.] - ETA: 0s - loss: 0.3800 - acc: 0.8808Epoch 00017: val_loss improved from 0.39130 to 0.39052, saving model to saved_models/weights128_test.hdf5\n",
      "7212/7212 [==============================] - 4s - loss: 0.3796 - acc: 0.8808 - val_loss: 0.3905 - val_acc: 0.8860\n",
      "Epoch 19/20\n",
      "7104/7212 [============================>.] - ETA: 0s - loss: 0.3778 - acc: 0.8895Epoch 00018: val_loss improved from 0.39052 to 0.37537, saving model to saved_models/weights128_test.hdf5\n",
      "7212/7212 [==============================] - 4s - loss: 0.3763 - acc: 0.8898 - val_loss: 0.3754 - val_acc: 0.8935\n",
      "Epoch 20/20\n",
      "7104/7212 [============================>.] - ETA: 0s - loss: 0.3695 - acc: 0.8894Epoch 00019: val_loss did not improve\n",
      "7212/7212 [==============================] - 4s - loss: 0.3703 - acc: 0.8899 - val_loss: 0.3807 - val_acc: 0.8781\n"
     ]
    }
   ],
   "source": [
    "checkpointer =  ModelCheckpoint(filepath = 'saved_models/weights128_test.hdf5',\n",
    "                              verbose = 1, save_best_only = True)\n",
    "history = model.fit(X_train, y_train,\n",
    "                    batch_size=64, epochs=20,\n",
    "                    verbose=1, validation_data=(X_val, y_val),callbacks = [checkpointer])\n"
   ]
  },
  {
   "cell_type": "code",
   "execution_count": 10,
   "metadata": {
    "collapsed": true
   },
   "outputs": [],
   "source": [
    "# serialize model to JSON\n",
    "model_json = model.to_json()\n",
    "with open(\"saved_models/model128_test.json\", \"w\") as json_file:\n",
    "    json_file.write(model_json)"
   ]
  },
  {
   "cell_type": "markdown",
   "metadata": {},
   "source": [
    "### Visualize Loss and Accuracy"
   ]
  },
  {
   "cell_type": "code",
   "execution_count": 11,
   "metadata": {},
   "outputs": [
    {
     "data": {
      "text/plain": [
       "<matplotlib.legend.Legend at 0x7f891c2b66a0>"
      ]
     },
     "execution_count": 11,
     "metadata": {},
     "output_type": "execute_result"
    },
    {
     "data": {
      "image/png": "[encoded data removed]",
      "text/plain": [
       "<matplotlib.figure.Figure at 0x7f891c2d2eb8>"
      ]
     },
     "metadata": {},
     "output_type": "display_data"
    }
   ],
   "source": [
    "#Visualize loss\n",
    "plt.plot(history.history[\"loss\"],label = \"Loss\")\n",
    "plt.plot(history.history[\"val_loss\"], label =\"Val Loss\")\n",
    "plt.legend()"
   ]
  },
  {
   "cell_type": "code",
   "execution_count": 12,
   "metadata": {},
   "outputs": [
    {
     "data": {
      "text/plain": [
       "<matplotlib.legend.Legend at 0x7f891c1f8dd8>"
      ]
     },
     "execution_count": 12,
     "metadata": {},
     "output_type": "execute_result"
    },
    {
     "data": {
      "image/png": "[encoded data removed]",
      "text/plain": [
       "<matplotlib.figure.Figure at 0x7f891c2d2978>"
      ]
     },
     "metadata": {},
     "output_type": "display_data"
    }
   ],
   "source": [
    "# Visualize accuracy\n",
    "plt.plot(history.history[\"acc\"],label = \"Accuracy\")\n",
    "plt.plot(history.history[\"val_acc\"], label =\"Val Accuracy\")\n",
    "plt.legend()"
   ]
  },
  {
   "cell_type": "markdown",
   "metadata": {},
   "source": [
    "### Test data Evaluation"
   ]
  },
  {
   "cell_type": "code",
   "execution_count": 13,
   "metadata": {
    "collapsed": true
   },
   "outputs": [],
   "source": [
    "X_test, y_test = test_images, test_labels_oh\n",
    "prediction = model.predict_classes(X_test, verbose = 0)"
   ]
  },
  {
   "cell_type": "code",
   "execution_count": 14,
   "metadata": {},
   "outputs": [
    {
     "name": "stdout",
     "output_type": "stream",
     "text": [
      "13376/13418 [============================>.] - ETA: 0s[0.20421407161537686, 0.94544641527196371]\n",
      "Accuracy:0.945\n"
     ]
    }
   ],
   "source": [
    "score = model.evaluate(X_test,y_test)\n",
    "print(score)\n",
    "print(\"Accuracy:{:.3f}\".format(score[1]))"
   ]
  },
  {
   "cell_type": "code",
   "execution_count": 15,
   "metadata": {
    "scrolled": true
   },
   "outputs": [
    {
     "data": {
      "text/plain": [
       "<matplotlib.text.Text at 0x7f891c13c7f0>"
      ]
     },
     "execution_count": 15,
     "metadata": {},
     "output_type": "execute_result"
    },
    {
     "data": {
      "image/png": "[encoded data removed]",
      "text/plain": [
       "<matplotlib.figure.Figure at 0x7f891c1a1278>"
      ]
     },
     "metadata": {},
     "output_type": "display_data"
    }
   ],
   "source": [
    "#Confusion Matrix\n",
    "sns.heatmap(confusion_matrix(test_labels,prediction),cmap=\"YlGnBu\",linewidth = 5, annot= True)\n",
    "plt.xlabel(\"Predicted label\", fontsize = 12)\n",
    "plt.ylabel(\"True label\", fontsize = 12)"
   ]
  },
  {
   "cell_type": "markdown",
   "metadata": {},
   "source": [
    "## Udacity Traffic Light Data"
   ]
  },
  {
   "cell_type": "code",
   "execution_count": 16,
   "metadata": {
    "collapsed": true
   },
   "outputs": [],
   "source": [
    "def get_images_with_labels_udacity():\n",
    "    # red_image_file = glob.glob(\"udacity_data/*/red/*.jpg\")\n",
    "    # yellow_image_file = glob.glob(\"udacity_data/*/yellow/*.jpg\")\n",
    "    # green_image_file = glob.glob(\"udacity_data/*/green/*.jpg\")\n",
    "    red_image_file = glob.glob(\"data/udacity_data/bag_dump_just_traffic_light/red/*.jpg\")\n",
    "    yellow_image_file = glob.glob(\"data/udacity_data/bag_dump_just_traffic_light/yellow/*.jpg\")\n",
    "    green_image_file = glob.glob(\"data/udacity_data/bag_dump_just_traffic_light/green/*.jpg\")\n",
    "    nolight_image_file = glob.glob(\"data/udacity_data/bag_dump_just_traffic_light/nolight/*.jpg\")\n",
    "      \n",
    "    red_images,red_labels = process_image_with_label(red_image_file,color = \"red\")\n",
    "    yellow_images,yellow_labels = process_image_with_label(yellow_image_file,color = \"yellow\")\n",
    "    green_images,green_labels = process_image_with_label(green_image_file,color = \"green\")\n",
    "    off_images,off_labels = process_image_with_label(nolight_image_file,color = \"off\")\n",
    "    \n",
    "    images = np.concatenate((red_images,yellow_images, green_images, off_images))\n",
    "    labels = np.concatenate((red_labels, yellow_labels, green_labels, off_labels))\n",
    "\n",
    "    return np.array(images),np.array(labels)"
   ]
  },
  {
   "cell_type": "code",
   "execution_count": 17,
   "metadata": {},
   "outputs": [],
   "source": [
    "udacity_images, udacity_labels = get_images_with_labels_udacity()"
   ]
  },
  {
   "cell_type": "code",
   "execution_count": 18,
   "metadata": {
    "collapsed": true
   },
   "outputs": [],
   "source": [
    "label_count = 4\n",
    "# One-hot encode the labels\n",
    "udacity_labels_oh = np_utils.to_categorical(udacity_labels, label_count)"
   ]
  },
  {
   "cell_type": "code",
   "execution_count": 19,
   "metadata": {
    "collapsed": true
   },
   "outputs": [],
   "source": [
    "pred_udacity = model.predict_classes(udacity_images, verbose = 0)"
   ]
  },
  {
   "cell_type": "code",
   "execution_count": 20,
   "metadata": {},
   "outputs": [
    {
     "name": "stdout",
     "output_type": "stream",
     "text": [
      "544/704 [======================>.......] - ETA: 0s"
     ]
    }
   ],
   "source": [
    "score_udacity = model.evaluate(udacity_images,udacity_labels_oh)"
   ]
  },
  {
   "cell_type": "code",
   "execution_count": 21,
   "metadata": {},
   "outputs": [
    {
     "name": "stdout",
     "output_type": "stream",
     "text": [
      "[1.2259510294957594, 0.37642045454545453]\n",
      "Accuracy:0.376\n"
     ]
    }
   ],
   "source": [
    "print(score_udacity)\n",
    "print(\"Accuracy:{:.3f}\".format(score_udacity[1]))"
   ]
  },
  {
   "cell_type": "code",
   "execution_count": 22,
   "metadata": {},
   "outputs": [
    {
     "data": {
      "text/plain": [
       "<matplotlib.text.Text at 0x7f891c0a8ba8>"
      ]
     },
     "execution_count": 22,
     "metadata": {},
     "output_type": "execute_result"
    },
    {
     "data": {
      "image/png": "[encoded data removed]",
      "text/plain": [
       "<matplotlib.figure.Figure at 0x7f891c0a4ac8>"
      ]
     },
     "metadata": {},
     "output_type": "display_data"
    }
   ],
   "source": [
    "sns.heatmap(confusion_matrix(udacity_labels,pred_udacity),cmap=\"YlGnBu\",linewidth = 5, annot= True)\n",
    "plt.xlabel(\"Predicted label\", fontsize = 12)\n",
    "plt.ylabel(\"True label\", fontsize = 12)"
   ]
  },
  {
   "cell_type": "code",
   "execution_count": null,
   "metadata": {
    "collapsed": true
   },
   "outputs": [],
   "source": []
  }
 ],
 "metadata": {
  "kernelspec": {
   "display_name": "Python 3",
   "language": "python",
   "name": "python3"
  },
  "language_info": {
   "codemirror_mode": {
    "name": "ipython",
    "version": 3
   },
   "file_extension": ".py",
   "mimetype": "text/x-python",
   "name": "python",
   "nbconvert_exporter": "python",
   "pygments_lexer": "ipython3",
   "version": "3.5.2"
  }
 },
 "nbformat": 4,
 "nbformat_minor": 2
}
